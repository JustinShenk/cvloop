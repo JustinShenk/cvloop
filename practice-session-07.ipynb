{
 "cells": [
  {
   "cell_type": "markdown",
   "metadata": {
    "nbpresent": {
     "id": "1b334161-2e0e-4759-af91-32ed74a0d36b"
    },
    "slideshow": {
     "slide_type": "slide"
    }
   },
   "source": [
    "# Computer Vision (Winter 2016/17) - Practice Session 7: projects\n",
    "Ulf Krumnack, Institute of Cognitive Science, Osnabrück University\n",
    "\n",
    "January 3-5, 2017"
   ]
  },
  {
   "cell_type": "markdown",
   "metadata": {
    "nbpresent": {
     "id": "1ecaba1f-2dfb-40cb-9fa9-f46323eead28"
    },
    "slideshow": {
     "slide_type": "subslide"
    }
   },
   "source": [
    "## Project week\n",
    "\n",
    "In the first week of January we are planning to work on small projects\n",
    "* every group should think of a small project \n",
    "* the tutors will be around to assist you\n",
    "\n",
    "Proposals:\n",
    "* track a colored object that is moving in front of the camera\n",
    "* recognize people based on their color signature\n",
    "* eye detection in photos or videos\n",
    "* some topic from the lecture or practice you would like to examine in more detail\n",
    "* ...\n",
    "\n"
   ]
  },
  {
   "cell_type": "markdown",
   "metadata": {},
   "source": [
    "## Installation of OpenCV 3.1\n",
    "\n",
    "### Mac:\n",
    "```\n",
    "brew tap homebrew/science\n",
    "brew install opencv3 --HEAD --with-contrib --with-python3 --with-ffmpeg\n",
    "```\n",
    "then\n",
    "`pip install cvloop`"
   ]
  },
  {
   "cell_type": "markdown",
   "metadata": {},
   "source": [
    "### Linux:"
   ]
  },
  {
   "cell_type": "markdown",
   "metadata": {},
   "source": [
    "### Windows:\n",
    "\n",
    "Go to http://www.lfd.uci.edu/~gohlke/pythonlibs/#opencv\n",
    "Download the appropriate version: check for contrib!\n",
    "\n",
    "Then type in command window\n",
    "```\n",
    "pip install opencv_python‑3.2.0+contrib‑*.whl\n",
    "pip install cvloop\n",
    "```\n"
   ]
  }
 ],
 "metadata": {
  "kernelspec": {
   "display_name": "Python 2",
   "language": "python",
   "name": "python2"
  },
  "language_info": {
   "codemirror_mode": {
    "name": "ipython",
    "version": 2
   },
   "file_extension": ".py",
   "mimetype": "text/x-python",
   "name": "python",
   "nbconvert_exporter": "python",
   "pygments_lexer": "ipython2",
   "version": "2.7.13"
  }
 },
 "nbformat": 4,
 "nbformat_minor": 1
}
