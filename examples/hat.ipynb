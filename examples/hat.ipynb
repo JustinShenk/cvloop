{
 "cells": [
  {
   "cell_type": "code",
   "execution_count": null,
   "metadata": {
    "collapsed": false
   },
   "outputs": [],
   "source": [
    "from cvloop import cvloop\n",
    "from cvloop.functions import get_hat, draw_hat\n",
    "import matplotlib.pyplot as plt\n",
    "import cv2\n",
    "\n",
    "def hat_machine(frame):\n",
    "    \"\"\"Draw a hat.\n",
    "    \"\"\"\n",
    "#     return draw_hat() # Returns random hat from `images` folder.\n",
    "    path = 'images/xmasHat.png'\n",
    "    return  draw_hat(frame, path,wOffset = 1.5,xOffset = -20,yOffset=50)\n",
    "\n",
    "FRAME_WIDTH = 640.\n",
    "FRAME_HEIGHT = 480.\n",
    "\n",
    "capture = cv2.VideoCapture(0)\n",
    "capture.set(cv2.CAP_PROP_FRAME_WIDTH, FRAME_WIDTH)\n",
    "capture.set(cv2.CAP_PROP_FRAME_HEIGHT, FRAME_HEIGHT)\n",
    "\n",
    "plt, anim = cvloop(source=capture,function=hat_machine)\n",
    "plt.show()"
   ]
  },
  {
   "cell_type": "code",
   "execution_count": null,
   "metadata": {
    "collapsed": false
   },
   "outputs": [],
   "source": []
  },
  {
   "cell_type": "code",
   "execution_count": null,
   "metadata": {
    "collapsed": true
   },
   "outputs": [],
   "source": []
  }
 ],
 "metadata": {
  "anaconda-cloud": {},
  "kernelspec": {
   "display_name": "Python [conda env:cvloop]",
   "language": "python",
   "name": "conda-env-cvloop-py"
  },
  "language_info": {
   "codemirror_mode": {
    "name": "ipython",
    "version": 3
   },
   "file_extension": ".py",
   "mimetype": "text/x-python",
   "name": "python",
   "nbconvert_exporter": "python",
   "pygments_lexer": "ipython3",
   "version": "3.5.2"
  }
 },
 "nbformat": 4,
 "nbformat_minor": 2
}
