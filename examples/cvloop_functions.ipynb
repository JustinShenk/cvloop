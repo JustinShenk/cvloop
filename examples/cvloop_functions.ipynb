{
    "cells": [
        {
            "cell_type": "markdown",
            "metadata": {},
            "source": [
                "# cvloop functions\n\n",
                "This notebook shows an overview over all cvloop ",
                "functions provided in the [`cvloop.functions` module](",
                "https://github.com/shoeffner/cvloop/blob/",
                "develop/cvloop/functions.py)."
            ]
        },
        {
            "cell_type": "code",
            "metadata": {},
            "outputs": [],
            "execution_count": null,
            "source": [
                "from cvloop import cvloop"
            ]
        },
        {
            "cell_type": "markdown",
            "metadata": {},
            "source": [
                "## `cvloop.functions.ForegroundExtractor` ",
                "<small>[[Source](https://github.com/shoeffner/cvloop/blob/",
                "develop/cvloop/functions.py#L7)]</small>\n\n",
                "Performs background subtraction using the supplied Subtractor and\n",
                "extracts the foreground accordingly.\n"
            ]
        },
        {
            "cell_type": "code",
            "metadata": {},
            "outputs": [],
            "execution_count": null,
            "source": [
                "from cvloop.functions import ForegroundExtractor\n",
                "cvloop(function=ForegroundExtractor(), side_by_side=True)"
            ]
        },
        {
            "cell_type": "markdown",
            "metadata": {},
            "source": [
                "## `cvloop.functions.BackgroundSubtractorGMG` ",
                "<small>[[Source](https://github.com/shoeffner/cvloop/blob/",
                "develop/cvloop/functions.py#L30)]</small>\n\n",
                "Performs background subtraction with a mixture of gaussians.\n",
                "\n",
                "The method used was described by Godbehere, Matsukawa, and Goldberg in\n",
                "[Visual Tracking of Human Visitors under Variable-Lighting Conditions for a\n",
                "Responsive Audio Art Installation (2012)](\n",
                "http://goldberg.berkeley.edu/pubs/acc-2012-visual-tracking-final.pdf).\n",
                "\n",
                "See also\n",
                "http://docs.opencv.org/3.1.0/db/d5c/tutorial_py_bg_subtraction.html.\n",
                "\n"
            ]
        },
        {
            "cell_type": "code",
            "metadata": {},
            "outputs": [],
            "execution_count": null,
            "source": [
                "from cvloop.functions import BackgroundSubtractorGMG\n",
                "cvloop(function=BackgroundSubtractorGMG(), side_by_side=True)"
            ]
        },
        {
            "cell_type": "markdown",
            "metadata": {},
            "source": [
                "## `cvloop.functions.BackgroundSubtractorMOG` ",
                "<small>[[Source](https://github.com/shoeffner/cvloop/blob/",
                "develop/cvloop/functions.py#L63)]</small>\n\n",
                "Performs background subtraction with a mixture of gaussians.\n",
                "\n",
                "The method used was described by KaewTraKulPong and Bowden in\n",
                "[An improved adaptive background mixture model for real-time tracking with\n",
                "shadow detection (2001)](\n",
                "http://personal.ee.surrey.ac.uk/Personal/R.Bowden/publications/avbs01/avbs01.pdf).\n",
                "\n",
                "See also\n",
                "http://docs.opencv.org/3.1.0/db/d5c/tutorial_py_bg_subtraction.html.\n",
                "\n"
            ]
        },
        {
            "cell_type": "code",
            "metadata": {},
            "outputs": [],
            "execution_count": null,
            "source": [
                "from cvloop.functions import BackgroundSubtractorMOG\n",
                "cvloop(function=BackgroundSubtractorMOG(), side_by_side=True)"
            ]
        },
        {
            "cell_type": "markdown",
            "metadata": {},
            "source": [
                "## `cvloop.functions.BackgroundSubtractorMOG2` ",
                "<small>[[Source](https://github.com/shoeffner/cvloop/blob/",
                "develop/cvloop/functions.py#L88)]</small>\n\n",
                "Performs background subtraction with a mixture of gaussians.\n",
                "\n",
                "The method used was described in two papers by Zivkovic and van der\n",
                "Heijden, [Improved adaptive Gausian mixture model for background\n",
                "subtraction (2004)](\n",
                "https://pdfs.semanticscholar.org/56b1/eee82a51ce17d72a91b5876a3281418679cc.pdf)\n",
                "and [Efficient Adaptive Density Estimation per Image Pixel for the\n",
                "Task of Background Subtraction (2006)](\n",
                "http://www.zoranz.net/Publications/zivkovicPRL2006.pdf)\n",
                "\n",
                "See also\n",
                "http://docs.opencv.org/3.1.0/db/d5c/tutorial_py_bg_subtraction.html.\n",
                "\n"
            ]
        },
        {
            "cell_type": "code",
            "metadata": {},
            "outputs": [],
            "execution_count": null,
            "source": [
                "from cvloop.functions import BackgroundSubtractorMOG2\n",
                "cvloop(function=BackgroundSubtractorMOG2(), side_by_side=True)"
            ]
        },
        {
            "cell_type": "markdown",
            "metadata": {},
            "source": [
                "## `cvloop.functions.Inverter` ",
                "<small>[[Source](https://github.com/shoeffner/cvloop/blob/",
                "develop/cvloop/functions.py#L111)]</small>\n\n",
                "Inverts the colors of the image.\n"
            ]
        },
        {
            "cell_type": "code",
            "metadata": {},
            "outputs": [],
            "execution_count": null,
            "source": [
                "from cvloop.functions import Inverter\n",
                "cvloop(function=Inverter(), side_by_side=True)"
            ]
        }
    ],
    "nbformat": 4,
    "nbformat_minor": 1,
    "metadata": {
        "language_info": {
            "codemirror_mode": {
                "name": "ipython",
                "version": 3
            },
            "file_extension": ".py",
            "mimetype": "text/x-python",
            "name": "python",
            "nbconvert_exporter": "python",
            "pygments_lexer": "ipython3",
            "version": "3.5.1+"
        }
    }
}